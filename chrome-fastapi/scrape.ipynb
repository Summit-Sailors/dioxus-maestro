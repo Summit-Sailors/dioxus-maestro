{
 "cells": [
  {
   "cell_type": "code",
   "execution_count": 2,
   "metadata": {},
   "outputs": [],
   "source": [
    "import json\n",
    "from pathlib import Path\n",
    "\n",
    "import polars as pl\n",
    "from upwork_scrape.scrape_data import JobsScraper\n",
    "from upwork_scrape.write_to_db import write_to_db"
   ]
  },
  {
   "cell_type": "code",
   "execution_count": null,
   "metadata": {},
   "outputs": [],
   "source": [
    "frame_works=[\"react\",\"svelte\",\"angular\",\"vue\",\"astro\",\"nextjs\",\"nestjs\"]\n",
    "langs=[\"python\",\"php\",\"rust\",\"javascript\"]\n",
    "low_code=[\"wordpress\",\"webflow\"]\n",
    "topics=[\"etl\",\"data processing\", \"data science\", \"web development\", \"programming\",\"software engineer\"]\n",
    "all_queries=langs+low_code+frame_works+topics"
   ]
  },
  {
   "cell_type": "code",
   "execution_count": null,
   "metadata": {},
   "outputs": [],
   "source": [
    "JobsScraper.scrape(all_queries[15:])"
   ]
  },
  {
   "cell_type": "code",
   "execution_count": 3,
   "metadata": {},
   "outputs": [],
   "source": [
    "final_df=(\n",
    "  pl.concat([pl.read_csv(query,schema={\"uid\": pl.Int64,\n",
    "        \"url\": pl.String,\n",
    "        \"title\": pl.String,\n",
    "        \"description\": pl.String,\n",
    "        \"created_at\": pl.Float64,\n",
    "        \"skills\": pl.String,\n",
    "        \"pay_type\": pl.String,\n",
    "        \"experience_level\": pl.String,\n",
    "        \"time_estimate\": pl.String,\n",
    "        \"budget\": pl.Int64,\n",
    "        \"max_rate\": pl.Int64,\n",
    "        \"min_rate\": pl.Int64,\n",
    "        \"search_query\": pl.String}) for query in Path.cwd().rglob(\"data/*.csv\")])\n",
    "    .unique((\"uid\",\"url\"))\n",
    "    .with_columns(skills=pl.col(\"skills\").map_elements(lambda text: json.loads(text.replace(\"'\", '\"')),pl.List(pl.Utf8)),\n",
    "                  pay_type=pl.col(\"pay_type\").str.to_lowercase(),\n",
    "                  created_at=pl.from_epoch(\"created_at\").dt.convert_time_zone(\"America/New_York\")\n",
    "                  )\n",
    "    # .with_columns(day_name=pl.col(\"created_at\").dt.weekday().replace_strict(NUM_TO_NAME_DOW))\n",
    ")"
   ]
  },
  {
   "cell_type": "code",
   "execution_count": 4,
   "metadata": {},
   "outputs": [],
   "source": [
    "write_to_db(final_df)"
   ]
  }
 ],
 "metadata": {
  "kernelspec": {
   "display_name": ".venv",
   "language": "python",
   "name": "python3"
  },
  "language_info": {
   "codemirror_mode": {
    "name": "ipython",
    "version": 3
   },
   "file_extension": ".py",
   "mimetype": "text/x-python",
   "name": "python",
   "nbconvert_exporter": "python",
   "pygments_lexer": "ipython3",
   "version": "3.12.7"
  }
 },
 "nbformat": 4,
 "nbformat_minor": 2
}
